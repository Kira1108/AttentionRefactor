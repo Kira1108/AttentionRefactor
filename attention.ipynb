{
 "cells": [
  {
   "cell_type": "code",
   "execution_count": 1,
   "metadata": {},
   "outputs": [],
   "source": [
    "import tensorflow as tf\n",
    "import numpy as np\n",
    "from tensorflow.keras.layers import (\n",
    "    Input, \n",
    "    LSTM, \n",
    "    Embedding, \n",
    "    Dense, \n",
    "    Bidirectional,\n",
    "    Softmax\n",
    ")"
   ]
  },
  {
   "cell_type": "markdown",
   "metadata": {},
   "source": [
    "### Coding the encoder"
   ]
  },
  {
   "cell_type": "code",
   "execution_count": 77,
   "metadata": {},
   "outputs": [
    {
     "name": "stdout",
     "output_type": "stream",
     "text": [
      "Encoder passed test\n"
     ]
    }
   ],
   "source": [
    "class Encoder(tf.keras.layers.Layer):\n",
    "    def __init__(self, T, V, D, M, **kwargs):\n",
    "        super().__init__(**kwargs)\n",
    "        self.embedding = Embedding(V, D, input_length = T)\n",
    "        self.lstm = Bidirectional(LSTM(M, return_sequences = True))\n",
    "\n",
    "    def call(self, inputs):\n",
    "        x = self.embedding(inputs)\n",
    "        x = self.lstm(x)\n",
    "        return x\n",
    "\n",
    "def test_encoder(T = 10, V = 2000, D = 200, M = 15, N = 128):\n",
    "    data = np.random.random((N, T))\n",
    "    encoder = Encoder(T, V, D, M)\n",
    "    assert encoder(data).shape == (N, T, 2 * M)\n",
    "    print(\"Encoder passed test\")\n",
    "\n",
    "test_encoder()"
   ]
  },
  {
   "cell_type": "markdown",
   "metadata": {},
   "source": [
    "### Softmax over the second dimension(Not the last one)"
   ]
  },
  {
   "cell_type": "code",
   "execution_count": 3,
   "metadata": {},
   "outputs": [],
   "source": [
    "# T = 10\n",
    "# V = 2000\n",
    "# D = 200\n",
    "# M = 15\n",
    "# N = 128"
   ]
  },
  {
   "cell_type": "code",
   "execution_count": 78,
   "metadata": {},
   "outputs": [
    {
     "name": "stdout",
     "output_type": "stream",
     "text": [
      "Passed softmax test\n"
     ]
    }
   ],
   "source": [
    "softmax = Softmax(axis = 1) # softmax over time\n",
    "\n",
    "def test_softmaxovertime():\n",
    "    data = np.random.random((128,20,1))\n",
    "    val = softmax(data)[np.random.randint(0,20)].numpy().sum()\n",
    "    assert abs(val -1) <= 1e-4\n",
    "    print('Passed softmax test')\n",
    "    \n",
    "test_softmaxovertime()"
   ]
  },
  {
   "cell_type": "markdown",
   "metadata": {},
   "source": [
    "### Build the decoder header"
   ]
  },
  {
   "cell_type": "code",
   "execution_count": 80,
   "metadata": {},
   "outputs": [
    {
     "name": "stdout",
     "output_type": "stream",
     "text": [
      "Decoder header(embedding) test success.\n"
     ]
    }
   ],
   "source": [
    "class DecoderHeader(tf.keras.layers.Layer):\n",
    "    def __init__(self, V, D, **kwargs):\n",
    "        super().__init__(**kwargs)\n",
    "        T = 1\n",
    "        self.embedding = Embedding(V, D, input_length = T)\n",
    "\n",
    "    def call(self, inputs):\n",
    "        x = self.embedding(inputs)\n",
    "        return x\n",
    "\n",
    "def test_decoder_header(V = 2000, D = 200, N = 128):\n",
    "    decoder_header = DecoderHeader(V, D)\n",
    "    decoder_input_data = np.random.randint(0,100, (N, 1))\n",
    "    assert decoder_header(decoder_input_data).shape == (N, 1, D)\n",
    "    print(\"Decoder header(embedding) test success.\")\n",
    "\n",
    "test_decoder_header()\n"
   ]
  },
  {
   "cell_type": "markdown",
   "metadata": {},
   "source": [
    "### Build the decoder LSTM"
   ]
  },
  {
   "cell_type": "code",
   "execution_count": 81,
   "metadata": {},
   "outputs": [
    {
     "name": "stdout",
     "output_type": "stream",
     "text": [
      "Decoder lstm test successfully\n"
     ]
    }
   ],
   "source": [
    "class DecoderLSTM(tf.keras.layers.Layer):\n",
    "    def __init__(self, M, **kwargs):\n",
    "        super().__init__(**kwargs)\n",
    "        self.M = M\n",
    "        self.lstm = LSTM(M, return_state = True)\n",
    "\n",
    "    def call(self, inputs, state = None):\n",
    "        if not state:\n",
    "            s = tf.zeros((len(inputs),self.M))\n",
    "            state = [s, s]\n",
    "        return self.lstm(inputs, initial_state = state)\n",
    "\n",
    "def test_decoder(N = 128, D = 200, M = 15):\n",
    "    decoder_lstm = DecoderLSTM(M)\n",
    "\n",
    "    o, h, c = decoder_lstm(\n",
    "        np.random.random((N, 1, D)), \n",
    "        state = [tf.zeros((N,M)),\n",
    "        tf.zeros((N,M))]\n",
    "        )\n",
    "\n",
    "    assert  all((o == h).numpy().flatten())\n",
    "    assert o.shape == h.shape == c.shape ==  (N,M)\n",
    "    print(\"Decoder lstm test successfully\")\n",
    "test_decoder()"
   ]
  },
  {
   "cell_type": "markdown",
   "metadata": {},
   "source": [
    "### Put the 2 decoder components inside 1 decoder"
   ]
  },
  {
   "cell_type": "code",
   "execution_count": 82,
   "metadata": {},
   "outputs": [],
   "source": [
    "class Decoder(tf.keras.layers.Layer):\n",
    "    def __init__(self, V, D, M, T = 1, **kwargs):\n",
    "        super().__init__(**kwargs)\n",
    "        self.M = M\n",
    "        self.embedding = Embedding(V, D, input_length = T)\n",
    "        self.lstm = LSTM(M, return_state = True)\n",
    "        self.dense = Dense(V, activation = 'softmax')\n",
    "\n",
    "    def call(self, inputs, state = None):\n",
    "        if not state:\n",
    "            s = tf.zeros((len(inputs),self.M))\n",
    "            state = [s, s]\n",
    "        \n",
    "        x = self.embedding(inputs)\n",
    "        o, h, c = self.lstm(x, initial_state = state)\n",
    "        output = self.dense(o)\n",
    "        return output, [h,c]"
   ]
  },
  {
   "cell_type": "code",
   "execution_count": 83,
   "metadata": {},
   "outputs": [
    {
     "name": "stdout",
     "output_type": "stream",
     "text": [
      "Passed decoder test\n"
     ]
    }
   ],
   "source": [
    "def test_decoder(V = 2000, M = 15,D = 200,N = 128,T = 1):\n",
    "    s = tf.zeros((N, M))\n",
    "    states = [[s,s],None]\n",
    "    for state in states:\n",
    "    \n",
    "        decoder = Decoder(V, D, M ,T)\n",
    "        out, state = decoder(np.random.randint(1,V, (N,T)), state = None)\n",
    "        assert out.shape == (N, V)\n",
    "        assert state[0].shape == (N, M)\n",
    "        assert state[1].shape == (N, M)\n",
    "    print('Passed decoder test')\n",
    "\n",
    "test_decoder()\n",
    "\n"
   ]
  },
  {
   "cell_type": "markdown",
   "metadata": {},
   "source": [
    "### The context vector is ignored here, so I need rebuild the layer"
   ]
  },
  {
   "cell_type": "code",
   "execution_count": 84,
   "metadata": {},
   "outputs": [],
   "source": [
    "from tensorflow.keras.layers import Concatenate"
   ]
  },
  {
   "cell_type": "code",
   "execution_count": 85,
   "metadata": {},
   "outputs": [],
   "source": [
    "class Decoder(tf.keras.layers.Layer):\n",
    "\n",
    "    def __init__(self, V, D, M, T = 1, **kwargs):\n",
    "        super().__init__(**kwargs)\n",
    "        self.M = M\n",
    "        self.embedding = Embedding(V, D, input_length = T)\n",
    "        self.lstm = LSTM(M, return_state = True)\n",
    "        self.dense = Dense(V, activation = 'softmax')\n",
    "        self.concat = Concatenate(axis = -1)\n",
    "\n",
    "    def call(self, inputs, state = None):\n",
    "        \n",
    "        if not state:\n",
    "            s = tf.zeros((len(inputs[0]),self.M))\n",
    "            state = [s, s]\n",
    "\n",
    "        # input contains 2 things\n",
    "        # 1 - decoder sequence input\n",
    "        # 2 - context vectors input\n",
    "        # these 2 things a detached here\n",
    "        decoder_inputs, context = inputs\n",
    "        \n",
    "        # embedding decoder sequence inputs\n",
    "        x = self.embedding(decoder_inputs)\n",
    "\n",
    "        # concat context and embedded vectors\n",
    "        x = self.concat([x, context])\n",
    "\n",
    "        # go through decoder lstm\n",
    "        o, h, c = self.lstm(x, initial_state = state)\n",
    "\n",
    "        # go through decoder dense\n",
    "        output = self.dense(o)\n",
    "\n",
    "        # return decoder final output and lstm states\n",
    "        return output, [h,c]"
   ]
  },
  {
   "cell_type": "code",
   "execution_count": 86,
   "metadata": {},
   "outputs": [
    {
     "name": "stdout",
     "output_type": "stream",
     "text": [
      "Passes all decoder test\n"
     ]
    }
   ],
   "source": [
    "def decoder_full_test(N = 128,V = 2000,D = 200,M = 15,T = 1):\n",
    "\n",
    "    decoder = Decoder(V, D, M ,T)\n",
    "    decoder_in_data = np.random.randint(1,V, (N,T))\n",
    "    context = np.random.random((N, T, M))\n",
    "    decoder_inputs = [decoder_in_data, context]\n",
    "    out, state = decoder(decoder_inputs, state = None)\n",
    "    assert out.shape == (N, V)\n",
    "    assert state[0].shape == (N, M) == state[1].shape\n",
    "    print(\"Passes all decoder test\")\n",
    "decoder_full_test()"
   ]
  },
  {
   "cell_type": "code",
   "execution_count": 87,
   "metadata": {},
   "outputs": [],
   "source": [
    "from tensorflow.keras.layers import RepeatVector, Concatenate, Dot"
   ]
  },
  {
   "cell_type": "code",
   "execution_count": 88,
   "metadata": {},
   "outputs": [
    {
     "name": "stdout",
     "output_type": "stream",
     "text": [
      "Attention test success\n"
     ]
    }
   ],
   "source": [
    "class AttentionLayer(tf.keras.layers.Layer):\n",
    "    def __init__(self, T, M, **kwargs):\n",
    "        super().__init__(**kwargs)\n",
    "        self.M = M\n",
    "        self.repeator = RepeatVector(T)\n",
    "        self.concater = Concatenate()\n",
    "        self.densor1 = Dense(M)\n",
    "        self.densor2 = Dense(1)\n",
    "        self.dotter = Dot(axes = 1)\n",
    "        self.softmax = Softmax(axis = 1)\n",
    "        \n",
    "    def call(self, encoder_output, prev_decoder_state):\n",
    "        s_repeated = self.repeator(prev_decoder_state)\n",
    "        concat_vector = self.concater([encoder_output, s_repeated])\n",
    "        weights = self.densor1(concat_vector)\n",
    "        weights = self.densor2(weights)\n",
    "        weights = self.softmax(weights)\n",
    "        context = self.dotter([weights, encoder_output])\n",
    "        return context\n",
    "    \n",
    "def test_attention(T = 100, M = 15, N = 128):\n",
    "\n",
    "    prev_state = tf.zeros((N, M))\n",
    "    encoder_out_tensor = tf.random.normal((N, T, 2*M))\n",
    "    context = AttentionLayer(T, M)(encoder_out_tensor,prev_state)\n",
    "    assert context.shape == (N, 1, 2*M)\n",
    "    print(\"Attention test success\")\n",
    "    \n",
    "test_attention()"
   ]
  },
  {
   "cell_type": "code",
   "execution_count": 117,
   "metadata": {},
   "outputs": [
    {
     "data": {
      "image/png": "[encoded data removed]",
      "text/plain": [
       "<IPython.core.display.Image object>"
      ]
     },
     "execution_count": 117,
     "metadata": {},
     "output_type": "execute_result"
    }
   ],
   "source": [
    "N = 128\n",
    "T = 100\n",
    "D = 200\n",
    "V = 2000\n",
    "M = 15\n",
    "encoder_input_tensor = Input((T,))\n",
    "s0 = Input((M,))\n",
    "c0 = Input((M,))\n",
    "\n",
    "# 这儿有一次\n",
    "encoder = Encoder(T,V,D,M)\n",
    "encoder_output_tensor = encoder(encoder_input_tensor)\n",
    "\n",
    "#这儿要再循环里\n",
    "attention = AttentionLayer(T, M)\n",
    "context = attention(encoder_output_tensor, s0)\n",
    "decoder_input = Input((1,))\n",
    "decoder = Decoder(V, D, M)\n",
    "out, states = decoder([decoder_input, context],[s0, c0])\n",
    "model = tf.keras.models.Model([encoder_input_tensor,decoder_input, s0, c0],[out, states])\n",
    "tf.keras.utils.plot_model(model, show_shapes = True)\n"
   ]
  },
  {
   "cell_type": "code",
   "execution_count": 111,
   "metadata": {},
   "outputs": [
    {
     "data": {
      "text/plain": [
       "TensorShape([None, 2000])"
      ]
     },
     "execution_count": 111,
     "metadata": {},
     "output_type": "execute_result"
    }
   ],
   "source": [
    "out.shape"
   ]
  },
  {
   "cell_type": "code",
   "execution_count": null,
   "metadata": {},
   "outputs": [],
   "source": []
  }
 ],
 "metadata": {
  "interpreter": {
   "hash": "40d3a090f54c6569ab1632332b64b2c03c39dcf918b08424e98f38b5ae0af88f"
  },
  "kernelspec": {
   "display_name": "Python 3.8.3 64-bit ('base': conda)",
   "name": "python3"
  },
  "language_info": {
   "codemirror_mode": {
    "name": "ipython",
    "version": 3
   },
   "file_extension": ".py",
   "mimetype": "text/x-python",
   "name": "python",
   "nbconvert_exporter": "python",
   "pygments_lexer": "ipython3",
   "version": "3.8.8"
  },
  "orig_nbformat": 4
 },
 "nbformat": 4,
 "nbformat_minor": 2
}
